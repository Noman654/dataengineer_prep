{
 "cells": [
  {
   "cell_type": "markdown",
   "metadata": {},
   "source": [
    "## Lets Focus on what question and try to understand the syntax"
   ]
  },
  {
   "cell_type": "code",
   "execution_count": null,
   "metadata": {
    "vscode": {
     "languageId": "plaintext"
    }
   },
   "outputs": [],
   "source": [
    "\n",
    "# setup the spark \n",
    "import pyspark\n",
    "\n",
    "from pyspark.sql import DataFrame, SparkSession\n",
    "from typing import List\n",
    "import pyspark.sql.types as T\n",
    "import pyspark.sql.functions as F\n",
    "\n",
    "spark= SparkSession \\\n",
    "       .builder \\\n",
    "       .appName(\"Our First Spark Example\") \\\n",
    "       .getOrCreate()"
   ]
  },
  {
   "cell_type": "markdown",
   "metadata": {},
   "source": [
    "## First lets see how many way to create dataframe "
   ]
  },
  {
   "cell_type": "code",
   "execution_count": null,
   "metadata": {
    "vscode": {
     "languageId": "plaintext"
    }
   },
   "outputs": [],
   "source": [
    "# First simple one with dict \n",
    "data = [{\"id\": 1, \"name\": \"Alice\", \"marks\":[50,40,30,30,40]}, \n",
    " {\"id\": 2, \"name\": \"Bob\" , \"marks\":[50,40,30,50,50,100,120]}, \n",
    "  {\"id\": 3, \"name\": \"Charlie\", \"marks\":[50,40,30,20,20,10]}]\n",
    "data = [{\"id\": 1, \"name\": \"Alice\", \"marks\":[50,40,30,30,40]}, \n",
    " {\"id\": 2, \"name\": \"Bob\" , \"marks\":[50,40,30,50,50,100,120]}, \n",
    "  {\"id\": 3, \"name\": \"Charlie\", \"marks\":[50,40,30,20,20,10]}]\n",
    "\n",
    "df = spark.createDataFrame(data)\n",
    "df.PrintSchema()\n"
   ]
  }
 ],
 "metadata": {
  "language_info": {
   "name": "python"
  }
 },
 "nbformat": 4,
 "nbformat_minor": 2
}
